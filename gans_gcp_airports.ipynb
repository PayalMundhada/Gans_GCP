{
 "cells": [
  {
   "cell_type": "code",
   "execution_count": 6,
   "id": "9aa762c2-a8b4-4048-b6ae-43a2520bd711",
   "metadata": {
    "scrolled": true
   },
   "outputs": [],
   "source": [
    "# For adding  airports information in airports table in sql database\n",
    "\n",
    "import pandas as pd\n",
    "import requests\n",
    "from datetime import datetime, timedelta\n",
    "from pytz import timezone\n",
    "from keys import sql_password, RAPIAPI_KEY\n",
    "from sqlalchemy import create_engine, text\n",
    "\n",
    "\n",
    "#function to create connection string to make connection with Database\n",
    "def create_connection_string():\n",
    "  schema = \"gans\"\n",
    "  host = \"35.241.135.102\"\n",
    "  user = \"root\"\n",
    "  password = sql_password\n",
    "  port = 3306\n",
    "  return f'mysql+pymysql://{user}:{password}@{host}:{port}/{schema}'\n",
    "\n",
    "# To read cities info from cities table\n",
    "def fetch_cities_data(connection_string):\n",
    "  return pd.read_sql(\"cities\", con=connection_string)\n",
    "\n",
    "# to get airports for the cities\n",
    "\n",
    "    \n",
    "def icao_airport_codes(cities_df):\n",
    "\n",
    "  #assert len(latitudes) == len(longitudes)\n",
    "  latitudes = cities_df['latitude']\n",
    "  longitudes = cities_df['longitude']\n",
    "  cities_id = cities_df['city_id']\n",
    "  list_for_df = []\n",
    "    \n",
    "  for index, value in enumerate(latitudes):\n",
    "\n",
    "    url = f\"https://aerodatabox.p.rapidapi.com/airports/search/location/{value}/{longitudes[index]}/km/50/16\"\n",
    "\n",
    "    querystring = {\"withFlightInfoOnly\":\"true\"}\n",
    "\n",
    "    headers = {\n",
    "      \"X-RapidAPI-Host\": \"aerodatabox.p.rapidapi.com\",\n",
    "      \"X-RapidAPI-Key\": RAPIAPI_KEY\n",
    "    }\n",
    "\n",
    "    response = requests.request(\"GET\", url, headers=headers, params=querystring)\n",
    "    if response.status_code ==200:\n",
    "        response_df = pd.json_normalize(response.json()['items'])\n",
    "        response_df['city_id'] = cities_id[index]\n",
    "        list_for_df.append(response_df)\n",
    "\n",
    "  \n",
    "  airports_df = (pd.concat(list_for_df, ignore_index=True))\n",
    "  ret_airports_df = airports_df[['icao', 'name', 'timeZone', 'city_id']]\n",
    "  ret_airports_df.rename(columns={\"name\": \"airport_name\"}, inplace=True)\n",
    "  return ret_airports_df\n",
    "\n",
    "\n",
    "def retrieve_and_save_airports():\n",
    "    connection_string = create_connection_string()\n",
    "    ret_cities_df = fetch_cities_data(connection_string)\n",
    "    airports_df = icao_airport_codes(ret_cities_df)\n",
    "    # airports_df.to_sql('airports',\n",
    "    #               if_exists='append',\n",
    "    #               con=connection_string,\n",
    "    #               index=False)\n",
    "    engine = create_engine(connection_string)\n",
    "    for _, rows in airports_df.iterrows():\n",
    "        icao = rows['icao']\n",
    "        airport_name = rows['airport_name']\n",
    "        timeZone = rows['timeZone']\n",
    "        city_id = rows['city_id']\n",
    "        with engine.connect() as connection:\n",
    "            sql = text(\"\"\"INSERT INTO airports (icao, airport_name, timeZone, city_id) \n",
    "            VALUES (:icao, :airport_name,:timeZone,:city_id) ON DUPLICATE KEY UPDATE \n",
    "            airport_name = :airport_name, timeZone = :timeZone, city_id = :city_id;\"\"\")\n",
    "            \n",
    "            connection.execute(sql,{\"icao\":icao, \"airport_name\": airport_name, \"timeZone\": timeZone, \"city_id\":city_id})\n",
    "            \n",
    "            connection.commit()\n",
    "    return \"Airports information retrived and saved in database\"\n",
    "\n",
    "\n"
   ]
  },
  {
   "cell_type": "code",
   "execution_count": 10,
   "id": "3b16dcb0-65d7-4a9e-8a10-ea12a175f821",
   "metadata": {},
   "outputs": [
    {
     "name": "stderr",
     "output_type": "stream",
     "text": [
      "/var/folders/vs/m818tpl12dx9lgmg3w2kzqch0000gn/T/ipykernel_11294/3306542783.py:55: SettingWithCopyWarning: \n",
      "A value is trying to be set on a copy of a slice from a DataFrame\n",
      "\n",
      "See the caveats in the documentation: https://pandas.pydata.org/pandas-docs/stable/user_guide/indexing.html#returning-a-view-versus-a-copy\n",
      "  ret_airports_df.rename(columns={\"name\": \"airport_name\"}, inplace=True)\n"
     ]
    },
    {
     "data": {
      "text/plain": [
       "'Airports information retrived and saved in database'"
      ]
     },
     "execution_count": 10,
     "metadata": {},
     "output_type": "execute_result"
    }
   ],
   "source": [
    "retrieve_and_save_airports()"
   ]
  },
  {
   "cell_type": "code",
   "execution_count": null,
   "id": "c4d25b41-f352-42bf-8853-3f779f8ecaa0",
   "metadata": {},
   "outputs": [],
   "source": []
  }
 ],
 "metadata": {
  "kernelspec": {
   "display_name": "Python 3 (ipykernel)",
   "language": "python",
   "name": "python3"
  },
  "language_info": {
   "codemirror_mode": {
    "name": "ipython",
    "version": 3
   },
   "file_extension": ".py",
   "mimetype": "text/x-python",
   "name": "python",
   "nbconvert_exporter": "python",
   "pygments_lexer": "ipython3",
   "version": "3.12.7"
  },
  "toc": {
   "base_numbering": 1
  }
 },
 "nbformat": 4,
 "nbformat_minor": 5
}
