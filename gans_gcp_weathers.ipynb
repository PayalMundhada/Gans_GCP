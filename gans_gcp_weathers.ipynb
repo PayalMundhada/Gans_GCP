{
 "cells": [
  {
   "cell_type": "code",
   "execution_count": 4,
   "id": "754522ef-561f-4c0b-aa92-89bfbe9c324c",
   "metadata": {},
   "outputs": [
    {
     "name": "stdout",
     "output_type": "stream",
     "text": [
      "Collecting functions-framework\n",
      "  Downloading functions_framework-3.8.2-py3-none-any.whl.metadata (16 kB)\n",
      "Requirement already satisfied: flask<4.0,>=1.0 in /opt/anaconda3/lib/python3.12/site-packages (from functions-framework) (3.0.3)\n",
      "Requirement already satisfied: click<9.0,>=7.0 in /opt/anaconda3/lib/python3.12/site-packages (from functions-framework) (8.1.7)\n",
      "Requirement already satisfied: watchdog>=1.0.0 in /opt/anaconda3/lib/python3.12/site-packages (from functions-framework) (4.0.1)\n",
      "Collecting cloudevents<2.0.0,>=1.2.0 (from functions-framework)\n",
      "  Downloading cloudevents-1.11.0-py3-none-any.whl.metadata (6.9 kB)\n",
      "Requirement already satisfied: Werkzeug<4.0.0,>=0.14 in /opt/anaconda3/lib/python3.12/site-packages (from functions-framework) (3.0.3)\n",
      "Collecting gunicorn>=22.0.0 (from functions-framework)\n",
      "  Downloading gunicorn-23.0.0-py3-none-any.whl.metadata (4.4 kB)\n",
      "Collecting deprecation<3.0,>=2.0 (from cloudevents<2.0.0,>=1.2.0->functions-framework)\n",
      "  Downloading deprecation-2.1.0-py2.py3-none-any.whl.metadata (4.6 kB)\n",
      "Requirement already satisfied: Jinja2>=3.1.2 in /opt/anaconda3/lib/python3.12/site-packages (from flask<4.0,>=1.0->functions-framework) (3.1.4)\n",
      "Requirement already satisfied: itsdangerous>=2.1.2 in /opt/anaconda3/lib/python3.12/site-packages (from flask<4.0,>=1.0->functions-framework) (2.2.0)\n",
      "Requirement already satisfied: blinker>=1.6.2 in /opt/anaconda3/lib/python3.12/site-packages (from flask<4.0,>=1.0->functions-framework) (1.6.2)\n",
      "Requirement already satisfied: packaging in /opt/anaconda3/lib/python3.12/site-packages (from gunicorn>=22.0.0->functions-framework) (24.1)\n",
      "Requirement already satisfied: MarkupSafe>=2.1.1 in /opt/anaconda3/lib/python3.12/site-packages (from Werkzeug<4.0.0,>=0.14->functions-framework) (2.1.3)\n",
      "Downloading functions_framework-3.8.2-py3-none-any.whl (35 kB)\n",
      "Downloading cloudevents-1.11.0-py3-none-any.whl (55 kB)\n",
      "Downloading gunicorn-23.0.0-py3-none-any.whl (85 kB)\n",
      "Downloading deprecation-2.1.0-py2.py3-none-any.whl (11 kB)\n",
      "Installing collected packages: gunicorn, deprecation, cloudevents, functions-framework\n",
      "Successfully installed cloudevents-1.11.0 deprecation-2.1.0 functions-framework-3.8.2 gunicorn-23.0.0\n",
      "Note: you may need to restart the kernel to use updated packages.\n"
     ]
    }
   ],
   "source": [
    "pip install functions-framework"
   ]
  },
  {
   "cell_type": "code",
   "execution_count": 5,
   "id": "5e2a6f0f-1632-4e26-b7cb-0c6f55bde8d1",
   "metadata": {},
   "outputs": [],
   "source": [
    "# For adding  weathers information in weathers table in sql database\n",
    "import functions_framework\n",
    "import pandas as pd\n",
    "import requests\n",
    "from datetime import datetime, timedelta\n",
    "from pytz import timezone\n",
    "from keys import API_key_weather, sql_password\n",
    "\n",
    "\n",
    "@functions_framework.http\n",
    "# Read cities data from database\n",
    "# get weather data from weather api for the cicites in databse\n",
    "# write weather data retrived above in weather table of database\n",
    "def retrive_save_weather_info(request):\n",
    "    connection_string = create_connection_string()\n",
    "    ret_cities_df = fetch_cities_data(connection_string)\n",
    "    weather_df = fetch_weather_data(ret_cities_df)\n",
    "    save_weather_data(weather_df, connection_string)\n",
    "    return \"Weather information retrived and saved in database\"\n",
    "\n",
    "#function to create connection string to make connection with Database\n",
    "def create_connection_string():\n",
    "  schema = \"gans\"\n",
    "  host = \"35.241.135.102\"\n",
    "  user = \"root\"\n",
    "  password = sql_password\n",
    "  port = 3306\n",
    "  return f'mysql+pymysql://{user}:{password}@{host}:{port}/{schema}'\n",
    "\n",
    "# To read cities info from cities table\n",
    "def fetch_cities_data(connection_string):\n",
    "  return pd.read_sql(\"cities\", con=connection_string)\n",
    "\n",
    "# to get weather data from weather API for cities in the cities \n",
    "def fetch_weather_data(cities_df):\n",
    "    \n",
    "  berlin_timezone = timezone('Europe/Berlin')\n",
    "  weather_items = []\n",
    "    \n",
    "  for _, city in cities_df.iterrows():\n",
    "      latitude = city[\"latitude\"]\n",
    "      longitude = city[\"longitude\"]\n",
    "      city_id = city[\"city_id\"]\n",
    "\n",
    "      url = (f\"https://api.openweathermap.org/data/2.5/forecast?lat={latitude}&lon={longitude}&appid={API_key_weather}&units=metric\")\n",
    "      response = requests.get(url)\n",
    "      if response.status_code ==200:\n",
    "          weather_data = response.json()\n",
    "\n",
    "          retrieval_time = datetime.now(berlin_timezone).strftime(\"%Y-%m-%d %H:%M:%S\")\n",
    "\n",
    "          for item in weather_data[\"list\"]:\n",
    "              weather_item = {\n",
    "                  \"city_id\": city_id,\n",
    "                  \"forecast_time\": item.get(\"dt_txt\"),\n",
    "                  \"temperature\": item[\"main\"].get(\"temp\"),\n",
    "                  \"forecast\": item[\"weather\"][0].get(\"main\"),\n",
    "                  \"rain_in_last_3h\": item.get(\"rain\", {}).get(\"3h\", 0),\n",
    "                  \"snow_in_last_3h\": item.get(\"snow\", {}).get(\"3h\", 0),\n",
    "                  \"visibility\":item.get(\"visibility\"),\n",
    "                  \"wind_speed\": item[\"wind\"].get(\"speed\"),\n",
    "                  \"data_retrieved_at\": retrieval_time\n",
    "              }\n",
    "              weather_items.append(weather_item)\n",
    "\n",
    "  weather_df = pd.DataFrame(weather_items)\n",
    "  weather_df[\"forecast_time\"] = pd.to_datetime(weather_df[\"forecast_time\"])\n",
    "  weather_df[\"data_retrieved_at\"] = pd.to_datetime(weather_df[\"data_retrieved_at\"])\n",
    "\n",
    "  return weather_df\n",
    "\n",
    "# Function to Save weather data\n",
    "def save_weather_data(weather_df, connection_string):\n",
    "  weather_df.to_sql('weathers',\n",
    "                    if_exists='append',\n",
    "                    con=connection_string,\n",
    "                    index=False)\n",
    "\n"
   ]
  },
  {
   "cell_type": "code",
   "execution_count": 7,
   "id": "1aa8bdb7-e3dc-4b9d-baea-44a6cd094625",
   "metadata": {},
   "outputs": [
    {
     "name": "stdout",
     "output_type": "stream",
     "text": [
      "Weather information retrived and saved in database\n"
     ]
    }
   ],
   "source": [
    "from flask import Request\n",
    "import json\n",
    "\n",
    "request_data = {}\n",
    "request = Request.from_values(data=json.dumps(request_data))\n",
    "\n",
    "# Call the function\n",
    "response = retrive_save_weather_info(request)\n",
    "print(response)"
   ]
  },
  {
   "cell_type": "code",
   "execution_count": null,
   "id": "5ad6322a-c109-4617-b4b4-133f4b82210f",
   "metadata": {},
   "outputs": [],
   "source": []
  }
 ],
 "metadata": {
  "kernelspec": {
   "display_name": "Python 3 (ipykernel)",
   "language": "python",
   "name": "python3"
  },
  "language_info": {
   "codemirror_mode": {
    "name": "ipython",
    "version": 3
   },
   "file_extension": ".py",
   "mimetype": "text/x-python",
   "name": "python",
   "nbconvert_exporter": "python",
   "pygments_lexer": "ipython3",
   "version": "3.12.7"
  },
  "toc": {
   "base_numbering": 1
  }
 },
 "nbformat": 4,
 "nbformat_minor": 5
}
