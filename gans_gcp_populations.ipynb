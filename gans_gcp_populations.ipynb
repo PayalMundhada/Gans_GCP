{
 "cells": [
  {
   "cell_type": "code",
   "execution_count": 2,
   "id": "e3bb5a2a-f8b9-4190-a051-d1a7e36d377a",
   "metadata": {},
   "outputs": [
    {
     "data": {
      "text/plain": [
       "'Populations appended to populations table in sql'"
      ]
     },
     "execution_count": 2,
     "metadata": {},
     "output_type": "execute_result"
    }
   ],
   "source": [
    "# For adding  populations information in populations table in sql database\n",
    "\n",
    "import pandas as pd\n",
    "import requests\n",
    "from datetime import datetime, timedelta\n",
    "from pytz import timezone\n",
    "from keys import sql_password, API_key_city_info\n",
    "\n",
    "\n",
    "#function to create connection string to make connection with Database\n",
    "def create_connection_string():\n",
    "  schema = \"gans\"\n",
    "  host = \"35.241.135.102\"\n",
    "  user = \"root\"\n",
    "  password = sql_password\n",
    "  port = 3306\n",
    "  return f'mysql+pymysql://{user}:{password}@{host}:{port}/{schema}'\n",
    "\n",
    "def fetch_cities_data(connection_string):\n",
    "  return pd.read_sql(\"cities\", con=connection_string)\n",
    "    \n",
    "def create_populations_df():\n",
    "    connection_string = create_connection_string()\n",
    "    cities_from_sql = fetch_cities_data(connection_string)\n",
    "    #cities = cities_from_sql[\"city_name\"]\n",
    "\n",
    "    population = []\n",
    "    year_retrieved =[]\n",
    "    city_id = []\n",
    "    for index, row in cities_from_sql.iterrows():\n",
    "        #https://api.api-ninjas.com/v1/city?name=San Francisco\n",
    "        response = requests.get(f\"https://api.api-ninjas.com/v1/city?name={row['city_name']}\", headers={'X-Api-Key': API_key_city_info})\n",
    "        if response.status_code ==200:\n",
    "            city_info = response.json()\n",
    "            if len(city_info)>0:\n",
    "                population.append(city_info[0]['population'])\n",
    "                city_id.append(row[\"city_id\"])\n",
    "    \n",
    "    population_df = pd.DataFrame({\"population\":population, \"city_id\": city_id})\n",
    "    #population_df[\"city_id\"] = cities_from_sql[\"city_id\"]\n",
    "    population_df[\"year_retrieved\"] = datetime.today().strftime(\"%Y\")\n",
    "    return population_df\n",
    "\n",
    "\n",
    "#To write cities information to population table\n",
    "def retrieve_and_save_populations():\n",
    "    population_df = create_populations_df()\n",
    "    save_populations_sql(population_df)\n",
    "    return \"Populations appended to populations table in sql\"\n",
    "\n",
    "def save_populations_sql(population_df):\n",
    "    connection_string = create_connection_string()\n",
    "    population_df.to_sql('populations',\n",
    "                  if_exists='append',\n",
    "                  con=connection_string,\n",
    "                  index=False)\n",
    "\n",
    "retrieve_and_save_populations()"
   ]
  },
  {
   "cell_type": "code",
   "execution_count": null,
   "id": "51a62563-6904-4005-8929-3cc18a4e2635",
   "metadata": {},
   "outputs": [],
   "source": []
  }
 ],
 "metadata": {
  "kernelspec": {
   "display_name": "Python 3 (ipykernel)",
   "language": "python",
   "name": "python3"
  },
  "language_info": {
   "codemirror_mode": {
    "name": "ipython",
    "version": 3
   },
   "file_extension": ".py",
   "mimetype": "text/x-python",
   "name": "python",
   "nbconvert_exporter": "python",
   "pygments_lexer": "ipython3",
   "version": "3.12.7"
  },
  "toc": {
   "base_numbering": 1
  }
 },
 "nbformat": 4,
 "nbformat_minor": 5
}
