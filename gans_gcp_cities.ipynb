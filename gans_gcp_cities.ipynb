{
 "cells": [
  {
   "cell_type": "code",
   "execution_count": 11,
   "id": "296cb392-1b67-410f-b91c-f78941056332",
   "metadata": {},
   "outputs": [],
   "source": [
    "# For adding  cities information in cities table in sql database\n",
    "\n",
    "import pandas as pd\n",
    "import requests\n",
    "from datetime import datetime, timedelta\n",
    "from pytz import timezone\n",
    "from keys import sql_password, API_key_city_info\n",
    "\n",
    "#function to create connection string to make connection with Database\n",
    "def create_connection_string():\n",
    "  schema = \"gans\"\n",
    "  host = \"35.241.135.102\"\n",
    "  user = \"root\"\n",
    "  password = sql_password\n",
    "  port = 3306\n",
    "  return f'mysql+pymysql://{user}:{password}@{host}:{port}/{schema}'\n",
    "\n",
    "def retrieve_and_save_cities(cities):\n",
    "\n",
    "    df_cities_info = create_cities_info(cities)\n",
    "    save_cities_sql(df_cities_info)\n",
    "    return \"Cities appended to cities table in sql\"\n",
    "\n",
    "def create_cities_info(cities):\n",
    "    #to save data received in response into a data frame\n",
    "    name = []\n",
    "    country = []\n",
    "    latitude = []\n",
    "    longitude = []\n",
    "    city_country_code = []\n",
    "    \n",
    "    for city in cities:\n",
    "        api_url = 'https://api.api-ninjas.com/v1/city?name={}'.format(city)\n",
    "        response = requests.get(api_url, headers={'X-Api-Key': API_key_city_info})\n",
    " \n",
    "        if response.status_code ==200:\n",
    "            city_info = response.json()\n",
    "            if len(city_info)>0:\n",
    "                name.append(city_info[0].get('name'))\n",
    "                country.append(city_info[0].get('country'))\n",
    "                latitude.append(city_info[0].get('latitude'))\n",
    "                longitude.append(city_info[0].get('longitude'))\n",
    "                #city_country_code.append(f\"{city_info[0]['name']} , {city_info[0]['country']}\")\n",
    "\n",
    "    cities_info={'city_name':name,\n",
    "                'country':country,\n",
    "                'latitude':latitude,\n",
    "                'longitude':longitude}\n",
    "    df_cities_info = pd.DataFrame(cities_info)\n",
    "    return df_cities_info\n",
    "\n",
    "\n",
    "def save_cities_sql(df_cities_info):\n",
    "    #To write cities information to cities table\n",
    "    connection_string = create_connection_string()\n",
    "    df_cities_info.to_sql('cities',\n",
    "                  if_exists='append',\n",
    "                  con=connection_string,\n",
    "                  index=False)\n",
    "\n",
    "\n"
   ]
  },
  {
   "cell_type": "code",
   "execution_count": 15,
   "id": "a43f0981-6bcb-405f-96b1-94c898d2d8c2",
   "metadata": {},
   "outputs": [
    {
     "data": {
      "text/plain": [
       "'Cities appended to cities table in sql'"
      ]
     },
     "execution_count": 15,
     "metadata": {},
     "output_type": "execute_result"
    }
   ],
   "source": [
    "\n",
    "cities = [\"Berlin\",\"Mumbai\",\"Hamburg\",\"Pune\",\"Frankfurt\",\"London\",\"Amsterdam\",\"Paris\",\"Munich\",\"Innsbruck\",\"Hannover\",\"New York\"]\n",
    "retrieve_and_save_cities(cities)\n"
   ]
  },
  {
   "cell_type": "code",
   "execution_count": null,
   "id": "9c50fe1b-b184-4455-a48b-4b2c734c9053",
   "metadata": {},
   "outputs": [],
   "source": []
  }
 ],
 "metadata": {
  "kernelspec": {
   "display_name": "Python 3 (ipykernel)",
   "language": "python",
   "name": "python3"
  },
  "language_info": {
   "codemirror_mode": {
    "name": "ipython",
    "version": 3
   },
   "file_extension": ".py",
   "mimetype": "text/x-python",
   "name": "python",
   "nbconvert_exporter": "python",
   "pygments_lexer": "ipython3",
   "version": "3.12.7"
  },
  "toc": {
   "base_numbering": 1
  }
 },
 "nbformat": 4,
 "nbformat_minor": 5
}
